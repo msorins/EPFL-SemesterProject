{
 "cells": [
  {
   "cell_type": "code",
   "execution_count": 1,
   "metadata": {
    "collapsed": true,
    "pycharm": {
     "is_executing": false
    }
   },
   "outputs": [],
   "source": [
    "%matplotlib qt\n",
    "import scipy.stats as st\n",
    "import numpy as np\n",
    "from scipy import fftpack\n",
    "import scipy.ndimage.filters\n",
    "import matplotlib.pyplot as plt\n",
    "import skimage.io\n",
    "import skimage.exposure\n",
    "import skimage.util\n",
    "import skimage.morphology\n",
    "import scipy.ndimage\n",
    "import cv2 as cv\n",
    "from sklearn.svm import SVC\n",
    "from sklearn.neighbors import KNeighborsClassifier\n"
   ]
  },
  {
   "cell_type": "code",
   "execution_count": 2,
   "outputs": [],
   "source": [
    "def remove_translation(dataset):\n",
    "    r = np.zeros_like(dataset)\n",
    "    for i in range(0, dataset.shape[0]):\n",
    "        mean_x = np.mean(dataset[i,:][::2])\n",
    "        mean_y = np.mean(dataset[i,:][1::2])\n",
    "        r[i][::2] = dataset[i][::2] - mean_x\n",
    "        r[i][1::2] = dataset[i][1::2] - mean_y\n",
    "    return r\n",
    "\n",
    "def remove_scale(dataset):\n",
    "    r = np.zeros_like(dataset)\n",
    "    for i in range(0,dataset.shape[0]):\n",
    "        mean_x = np.mean(dataset[i,:][::2])\n",
    "        mean_y = np.mean(dataset[i,:][1::2])\n",
    "        s = np.sqrt((np.sum(np.power(dataset[i,:][::2] - mean_x,2)) + np.sum(np.power(dataset[i,:][1::2] - mean_y,2)) / (dataset.shape[1] / 2)))\n",
    "        r[i][::2] = (dataset[i][::2] - mean_x) / s\n",
    "        r[i][1::2] = (dataset[i][1::2] - mean_y) / s \n",
    "    return r\n",
    "\n",
    "def remove_rotation(dataset, target):\n",
    "    r = np.zeros_like(dataset)\n",
    "    for i in range(0, dataset.shape[0]):\n",
    "        element = dataset[i,:]\n",
    "        element_x = element[::2]\n",
    "        element_y = element[1::2]\n",
    "        target_x = target[::2]\n",
    "        target_y = target[1::2]\n",
    "        angle = np.arctan(np.sum(element_x * target_y - element_y * target_x) \n",
    "                          / np.sum(element_x * target_x + element_y * target_y))\n",
    "        for idx,x in enumerate(element_x):\n",
    "            y = element_y[idx]\n",
    "            r[i,2*idx] = np.cos(angle) * x - np.sin(angle) * y\n",
    "            r[i,2*idx+1] = np.sin(angle) * x + np.cos(angle) * y\n",
    "    return r"
   ],
   "metadata": {
    "collapsed": false,
    "pycharm": {
     "name": "#%%\n",
     "is_executing": false
    }
   }
  },
  {
   "cell_type": "code",
   "execution_count": 3,
   "outputs": [],
   "source": [
    "data_train  = np.genfromtxt(\"input/SIPdiatomsTrain.txt\", delimiter=',')\n",
    "data_test  = np.genfromtxt(\"input/SIPdiatomsTest.txt\", delimiter=',')\n",
    "labels_train = np.genfromtxt(\"input/SIPdiatomsTrain_classes.txt\", delimiter=',')\n",
    "labels_test = np.genfromtxt(\"input/SIPdiatomsTest_classes.txt\", delimiter=',')\n"
   ],
   "metadata": {
    "collapsed": false,
    "pycharm": {
     "name": "#%%\n",
     "is_executing": false
    }
   }
  },
  {
   "cell_type": "code",
   "execution_count": 3,
   "outputs": [],
   "source": [],
   "metadata": {
    "collapsed": false,
    "pycharm": {
     "name": "#%%\n",
     "is_executing": false
    }
   }
  },
  {
   "cell_type": "code",
   "execution_count": 4,
   "outputs": [],
   "source": [
    "\n",
    "data_no_trans = remove_scale(data_train)"
   ],
   "metadata": {
    "collapsed": false,
    "pycharm": {
     "name": "#%%\n",
     "is_executing": false
    }
   }
  },
  {
   "cell_type": "code",
   "execution_count": 5,
   "outputs": [],
   "source": [
    "data_rotate = remove_rotation(data_no_trans, np.copy(data_no_trans[0,:]))"
   ],
   "metadata": {
    "collapsed": false,
    "pycharm": {
     "name": "#%%\n",
     "is_executing": false
    }
   }
  },
  {
   "cell_type": "code",
   "execution_count": 6,
   "outputs": [],
   "source": [
    "fig, axes = plt.subplots(1,4)\n",
    "for i in range(0,5):\n",
    "    tmp = data_train[i,:]\n",
    "    x = tmp[::2]\n",
    "    y = tmp[1::2]\n",
    "    \n",
    "    # data_no_trans = remove_translation(tmp)\n",
    "    # print(np.mean(data_no_trans[::2]))\n",
    "    # print(np.mean(data_no_trans[1::2]))\n",
    "    # \n",
    "    axes[0].set_title(\"Original\")\n",
    "    axes[0].plot(data_train[i,:][::2], data_train[i,:][1::2], 'o')\n",
    "    axes[1].plot(data_no_trans[i,:][::2], data_no_trans[i,:][1::2], 'o')\n",
    "    axes[1].set_title(\"Translation and scale removed\")\n",
    "    axes[2].plot(data_rotate[i,:][::2], data_rotate[i,:][1::2], 'o')\n",
    "    axes[2].set_title(\"Rotation removed\")\n",
    "    axes[2].set_xlim(axes[1].get_xlim())\n",
    "    axes[2].set_ylim(axes[1].get_ylim())\n",
    "    \n",
    "    axes[3].set_title(\"Rotation refference\")\n",
    "    axes[3].plot(data_rotate[0,:][::2], data_rotate[0,:][1::2], 'bo')\n",
    "    axes[3].set_xlim(axes[1].get_xlim())\n",
    "    axes[3].set_ylim(axes[1].get_ylim())\n",
    "\n",
    "fig.show()\n",
    "\n"
   ],
   "metadata": {
    "collapsed": false,
    "pycharm": {
     "name": "#%%\n",
     "is_executing": false
    }
   }
  },
  {
   "cell_type": "code",
   "execution_count": 26,
   "outputs": [
    {
     "name": "stdout",
     "text": [
      "0.03214285714285714\n"
     ],
     "output_type": "stream"
    }
   ],
   "source": [
    "data_train_no_trans = remove_scale(data_train)\n",
    "data_train_rotate = remove_rotation(data_train_no_trans, np.copy(data_train_no_trans[0,:]))\n",
    "\n",
    "data_test_no_trans = remove_scale(data_test)\n",
    "data_test_rotate = remove_rotation(data_test_no_trans, np.copy(data_train_no_trans[0,:]))\n",
    "\n",
    "\n",
    "svm = SVC()\n",
    "knn = KNeighborsClassifier(n_neighbors=5)\n",
    "knn.fit(data_train,labels_train)\n",
    "\n",
    "pred = knn.predict(data_test)\n",
    "acc = np.sum(pred == labels_test) / labels_test.shape[0]\n",
    "\n",
    "print(acc)\n"
   ],
   "metadata": {
    "collapsed": false,
    "pycharm": {
     "name": "#%%\n",
     "is_executing": false
    }
   }
  }
 ],
 "metadata": {
  "kernelspec": {
   "display_name": "Python 3",
   "language": "python",
   "name": "python3"
  },
  "language_info": {
   "codemirror_mode": {
    "name": "ipython",
    "version": 2
   },
   "file_extension": ".py",
   "mimetype": "text/x-python",
   "name": "python",
   "nbconvert_exporter": "python",
   "pygments_lexer": "ipython2",
   "version": "2.7.6"
  },
  "pycharm": {
   "stem_cell": {
    "cell_type": "raw",
    "source": [],
    "metadata": {
     "collapsed": false
    }
   }
  }
 },
 "nbformat": 4,
 "nbformat_minor": 0
}