{
 "cells": [
  {
   "cell_type": "code",
   "execution_count": 6,
   "outputs": [
    {
     "name": "stdout",
     "text": [
      "Collecting PyQt5\r\n",
      "\u001b[?25l  Downloading https://files.pythonhosted.org/packages/d2/3f/b59a34cd20055456c9f8bd82e69921b88fb6a12dbd2db8a6ad68ec8de7f4/PyQt5-5.14.1-5.14.1-cp35.cp36.cp37.cp38-abi3-macosx_10_6_intel.whl (43.1MB)\r\n",
      "\u001b[K     |████████████████████████████████| 43.1MB 13.3MB/s eta 0:00:01\r\n",
      "\u001b[?25hCollecting PyQt5-sip<13,>=12.7\r\n",
      "\u001b[?25l  Downloading https://files.pythonhosted.org/packages/a6/0c/7dcf5360e9226f54163c50bff3e0def8ac6c074ec3da807d06e8aef33135/PyQt5_sip-12.7.1-cp37-cp37m-macosx_10_9_x86_64.whl (63kB)\r\n",
      "\u001b[K     |████████████████████████████████| 71kB 8.2MB/s  eta 0:00:01\r\n",
      "\u001b[?25hInstalling collected packages: PyQt5-sip, PyQt5\r\n",
      "Successfully installed PyQt5-5.14.1 PyQt5-sip-12.7.1\r\n"
     ],
     "output_type": "stream"
    }
   ],
   "source": [
    "!pip3 install PyQt5"
   ],
   "metadata": {
    "collapsed": false,
    "pycharm": {
     "name": "#%%\n",
     "is_executing": false
    }
   }
  },
  {
   "cell_type": "code",
   "execution_count": 13,
   "metadata": {
    "collapsed": true,
    "pycharm": {
     "is_executing": false
    }
   },
   "outputs": [],
   "source": [
    "%matplotlib qt\n",
    "import scipy.stats as st\n",
    "import numpy as np\n",
    "from scipy import fftpack\n",
    "import scipy.ndimage.filters\n",
    "import matplotlib.pyplot as plt\n",
    "import skimage.io\n",
    "import skimage.exposure\n",
    "import skimage.util\n",
    "import skimage.morphology\n",
    "import scipy.ndimage\n",
    "import cv2"
   ]
  },
  {
   "cell_type": "code",
   "execution_count": 47,
   "outputs": [],
   "source": [
    "img = np.array(skimage.io.imread(\"./strb1.jpg\"))\n",
    "\n",
    "se = np.array([[0,0,1,0,0],\n",
    "               [0,1,1,1,0],\n",
    "               [1,1,1,1,1],\n",
    "               [0,1,1,1,0],\n",
    "               [0,0,1,0,0]])\n",
    "img = np.power(img - 1, 2)"
   ],
   "metadata": {
    "collapsed": false,
    "pycharm": {
     "name": "#%%\n",
     "is_executing": false
    }
   }
  },
  {
   "cell_type": "code",
   "execution_count": 48,
   "outputs": [
    {
     "traceback": [
      "\u001b[0;31m---------------------------------------------------------------------------\u001b[0m",
      "\u001b[0;31mRuntimeError\u001b[0m                              Traceback (most recent call last)",
      "\u001b[0;32m<ipython-input-48-a9210ecc3bb5>\u001b[0m in \u001b[0;36m<module>\u001b[0;34m\u001b[0m\n\u001b[1;32m      3\u001b[0m \u001b[0;34m\u001b[0m\u001b[0m\n\u001b[1;32m      4\u001b[0m \u001b[0;34m\u001b[0m\u001b[0m\n\u001b[0;32m----> 5\u001b[0;31m \u001b[0mimg_open\u001b[0m \u001b[0;34m=\u001b[0m \u001b[0mskimage\u001b[0m\u001b[0;34m.\u001b[0m\u001b[0mmorphology\u001b[0m\u001b[0;34m.\u001b[0m\u001b[0mbinary_opening\u001b[0m\u001b[0;34m(\u001b[0m\u001b[0mr\u001b[0m\u001b[0;34m,\u001b[0m \u001b[0mse\u001b[0m\u001b[0;34m)\u001b[0m\u001b[0;34m\u001b[0m\u001b[0;34m\u001b[0m\u001b[0m\n\u001b[0m\u001b[1;32m      6\u001b[0m \u001b[0mimg_close\u001b[0m \u001b[0;34m=\u001b[0m \u001b[0mskimage\u001b[0m\u001b[0;34m.\u001b[0m\u001b[0mmorphology\u001b[0m\u001b[0;34m.\u001b[0m\u001b[0mbinary_closing\u001b[0m\u001b[0;34m(\u001b[0m\u001b[0mr\u001b[0m\u001b[0;34m,\u001b[0m \u001b[0mse\u001b[0m\u001b[0;34m)\u001b[0m\u001b[0;34m\u001b[0m\u001b[0;34m\u001b[0m\u001b[0m\n\u001b[1;32m      7\u001b[0m \u001b[0;34m\u001b[0m\u001b[0m\n",
      "\u001b[0;32m/usr/local/lib/python3.7/site-packages/skimage/morphology/misc.py\u001b[0m in \u001b[0;36mfunc_out\u001b[0;34m(image, selem, *args, **kwargs)\u001b[0m\n\u001b[1;32m     37\u001b[0m         \u001b[0;32mif\u001b[0m \u001b[0mselem\u001b[0m \u001b[0;32mis\u001b[0m \u001b[0;32mNone\u001b[0m\u001b[0;34m:\u001b[0m\u001b[0;34m\u001b[0m\u001b[0;34m\u001b[0m\u001b[0m\n\u001b[1;32m     38\u001b[0m             \u001b[0mselem\u001b[0m \u001b[0;34m=\u001b[0m \u001b[0m_default_selem\u001b[0m\u001b[0;34m(\u001b[0m\u001b[0mimage\u001b[0m\u001b[0;34m.\u001b[0m\u001b[0mndim\u001b[0m\u001b[0;34m)\u001b[0m\u001b[0;34m\u001b[0m\u001b[0;34m\u001b[0m\u001b[0m\n\u001b[0;32m---> 39\u001b[0;31m         \u001b[0;32mreturn\u001b[0m \u001b[0mfunc\u001b[0m\u001b[0;34m(\u001b[0m\u001b[0mimage\u001b[0m\u001b[0;34m,\u001b[0m \u001b[0mselem\u001b[0m\u001b[0;34m=\u001b[0m\u001b[0mselem\u001b[0m\u001b[0;34m,\u001b[0m \u001b[0;34m*\u001b[0m\u001b[0margs\u001b[0m\u001b[0;34m,\u001b[0m \u001b[0;34m**\u001b[0m\u001b[0mkwargs\u001b[0m\u001b[0;34m)\u001b[0m\u001b[0;34m\u001b[0m\u001b[0;34m\u001b[0m\u001b[0m\n\u001b[0m\u001b[1;32m     40\u001b[0m \u001b[0;34m\u001b[0m\u001b[0m\n\u001b[1;32m     41\u001b[0m     \u001b[0;32mreturn\u001b[0m \u001b[0mfunc_out\u001b[0m\u001b[0;34m\u001b[0m\u001b[0;34m\u001b[0m\u001b[0m\n",
      "\u001b[0;32m/usr/local/lib/python3.7/site-packages/skimage/morphology/binary.py\u001b[0m in \u001b[0;36mbinary_opening\u001b[0;34m(image, selem, out)\u001b[0m\n\u001b[1;32m    108\u001b[0m \u001b[0;34m\u001b[0m\u001b[0m\n\u001b[1;32m    109\u001b[0m     \"\"\"\n\u001b[0;32m--> 110\u001b[0;31m     \u001b[0meroded\u001b[0m \u001b[0;34m=\u001b[0m \u001b[0mbinary_erosion\u001b[0m\u001b[0;34m(\u001b[0m\u001b[0mimage\u001b[0m\u001b[0;34m,\u001b[0m \u001b[0mselem\u001b[0m\u001b[0;34m)\u001b[0m\u001b[0;34m\u001b[0m\u001b[0;34m\u001b[0m\u001b[0m\n\u001b[0m\u001b[1;32m    111\u001b[0m     \u001b[0mout\u001b[0m \u001b[0;34m=\u001b[0m \u001b[0mbinary_dilation\u001b[0m\u001b[0;34m(\u001b[0m\u001b[0meroded\u001b[0m\u001b[0;34m,\u001b[0m \u001b[0mselem\u001b[0m\u001b[0;34m,\u001b[0m \u001b[0mout\u001b[0m\u001b[0;34m=\u001b[0m\u001b[0mout\u001b[0m\u001b[0;34m)\u001b[0m\u001b[0;34m\u001b[0m\u001b[0;34m\u001b[0m\u001b[0m\n\u001b[1;32m    112\u001b[0m     \u001b[0;32mreturn\u001b[0m \u001b[0mout\u001b[0m\u001b[0;34m\u001b[0m\u001b[0;34m\u001b[0m\u001b[0m\n",
      "\u001b[0;32m/usr/local/lib/python3.7/site-packages/skimage/morphology/misc.py\u001b[0m in \u001b[0;36mfunc_out\u001b[0;34m(image, selem, *args, **kwargs)\u001b[0m\n\u001b[1;32m     37\u001b[0m         \u001b[0;32mif\u001b[0m \u001b[0mselem\u001b[0m \u001b[0;32mis\u001b[0m \u001b[0;32mNone\u001b[0m\u001b[0;34m:\u001b[0m\u001b[0;34m\u001b[0m\u001b[0;34m\u001b[0m\u001b[0m\n\u001b[1;32m     38\u001b[0m             \u001b[0mselem\u001b[0m \u001b[0;34m=\u001b[0m \u001b[0m_default_selem\u001b[0m\u001b[0;34m(\u001b[0m\u001b[0mimage\u001b[0m\u001b[0;34m.\u001b[0m\u001b[0mndim\u001b[0m\u001b[0;34m)\u001b[0m\u001b[0;34m\u001b[0m\u001b[0;34m\u001b[0m\u001b[0m\n\u001b[0;32m---> 39\u001b[0;31m         \u001b[0;32mreturn\u001b[0m \u001b[0mfunc\u001b[0m\u001b[0;34m(\u001b[0m\u001b[0mimage\u001b[0m\u001b[0;34m,\u001b[0m \u001b[0mselem\u001b[0m\u001b[0;34m=\u001b[0m\u001b[0mselem\u001b[0m\u001b[0;34m,\u001b[0m \u001b[0;34m*\u001b[0m\u001b[0margs\u001b[0m\u001b[0;34m,\u001b[0m \u001b[0;34m**\u001b[0m\u001b[0mkwargs\u001b[0m\u001b[0;34m)\u001b[0m\u001b[0;34m\u001b[0m\u001b[0;34m\u001b[0m\u001b[0m\n\u001b[0m\u001b[1;32m     40\u001b[0m \u001b[0;34m\u001b[0m\u001b[0m\n\u001b[1;32m     41\u001b[0m     \u001b[0;32mreturn\u001b[0m \u001b[0mfunc_out\u001b[0m\u001b[0;34m\u001b[0m\u001b[0;34m\u001b[0m\u001b[0m\n",
      "\u001b[0;32m/usr/local/lib/python3.7/site-packages/skimage/morphology/binary.py\u001b[0m in \u001b[0;36mbinary_erosion\u001b[0;34m(image, selem, out)\u001b[0m\n\u001b[1;32m     40\u001b[0m     \u001b[0;32mif\u001b[0m \u001b[0mout\u001b[0m \u001b[0;32mis\u001b[0m \u001b[0;32mNone\u001b[0m\u001b[0;34m:\u001b[0m\u001b[0;34m\u001b[0m\u001b[0;34m\u001b[0m\u001b[0m\n\u001b[1;32m     41\u001b[0m         \u001b[0mout\u001b[0m \u001b[0;34m=\u001b[0m \u001b[0mnp\u001b[0m\u001b[0;34m.\u001b[0m\u001b[0mempty\u001b[0m\u001b[0;34m(\u001b[0m\u001b[0mimage\u001b[0m\u001b[0;34m.\u001b[0m\u001b[0mshape\u001b[0m\u001b[0;34m,\u001b[0m \u001b[0mdtype\u001b[0m\u001b[0;34m=\u001b[0m\u001b[0mnp\u001b[0m\u001b[0;34m.\u001b[0m\u001b[0mbool\u001b[0m\u001b[0;34m)\u001b[0m\u001b[0;34m\u001b[0m\u001b[0;34m\u001b[0m\u001b[0m\n\u001b[0;32m---> 42\u001b[0;31m     \u001b[0mndi\u001b[0m\u001b[0;34m.\u001b[0m\u001b[0mbinary_erosion\u001b[0m\u001b[0;34m(\u001b[0m\u001b[0mimage\u001b[0m\u001b[0;34m,\u001b[0m \u001b[0mstructure\u001b[0m\u001b[0;34m=\u001b[0m\u001b[0mselem\u001b[0m\u001b[0;34m,\u001b[0m \u001b[0moutput\u001b[0m\u001b[0;34m=\u001b[0m\u001b[0mout\u001b[0m\u001b[0;34m,\u001b[0m \u001b[0mborder_value\u001b[0m\u001b[0;34m=\u001b[0m\u001b[0;32mTrue\u001b[0m\u001b[0;34m)\u001b[0m\u001b[0;34m\u001b[0m\u001b[0;34m\u001b[0m\u001b[0m\n\u001b[0m\u001b[1;32m     43\u001b[0m     \u001b[0;32mreturn\u001b[0m \u001b[0mout\u001b[0m\u001b[0;34m\u001b[0m\u001b[0;34m\u001b[0m\u001b[0m\n\u001b[1;32m     44\u001b[0m \u001b[0;34m\u001b[0m\u001b[0m\n",
      "\u001b[0;32m/usr/local/lib/python3.7/site-packages/scipy/ndimage/morphology.py\u001b[0m in \u001b[0;36mbinary_erosion\u001b[0;34m(input, structure, iterations, mask, output, border_value, origin, brute_force)\u001b[0m\n\u001b[1;32m    380\u001b[0m     \"\"\"\n\u001b[1;32m    381\u001b[0m     return _binary_erosion(input, structure, iterations, mask,\n\u001b[0;32m--> 382\u001b[0;31m                            output, border_value, origin, 0, brute_force)\n\u001b[0m\u001b[1;32m    383\u001b[0m \u001b[0;34m\u001b[0m\u001b[0m\n\u001b[1;32m    384\u001b[0m \u001b[0;34m\u001b[0m\u001b[0m\n",
      "\u001b[0;32m/usr/local/lib/python3.7/site-packages/scipy/ndimage/morphology.py\u001b[0m in \u001b[0;36m_binary_erosion\u001b[0;34m(input, structure, iterations, mask, output, border_value, origin, invert, brute_force)\u001b[0m\n\u001b[1;32m    229\u001b[0m         \u001b[0mstructure\u001b[0m \u001b[0;34m=\u001b[0m \u001b[0mnumpy\u001b[0m\u001b[0;34m.\u001b[0m\u001b[0masarray\u001b[0m\u001b[0;34m(\u001b[0m\u001b[0mstructure\u001b[0m\u001b[0;34m,\u001b[0m \u001b[0mdtype\u001b[0m\u001b[0;34m=\u001b[0m\u001b[0mbool\u001b[0m\u001b[0;34m)\u001b[0m\u001b[0;34m\u001b[0m\u001b[0;34m\u001b[0m\u001b[0m\n\u001b[1;32m    230\u001b[0m     \u001b[0;32mif\u001b[0m \u001b[0mstructure\u001b[0m\u001b[0;34m.\u001b[0m\u001b[0mndim\u001b[0m \u001b[0;34m!=\u001b[0m \u001b[0minput\u001b[0m\u001b[0;34m.\u001b[0m\u001b[0mndim\u001b[0m\u001b[0;34m:\u001b[0m\u001b[0;34m\u001b[0m\u001b[0;34m\u001b[0m\u001b[0m\n\u001b[0;32m--> 231\u001b[0;31m         \u001b[0;32mraise\u001b[0m \u001b[0mRuntimeError\u001b[0m\u001b[0;34m(\u001b[0m\u001b[0;34m'structure and input must have same dimensionality'\u001b[0m\u001b[0;34m)\u001b[0m\u001b[0;34m\u001b[0m\u001b[0;34m\u001b[0m\u001b[0m\n\u001b[0m\u001b[1;32m    232\u001b[0m     \u001b[0;32mif\u001b[0m \u001b[0;32mnot\u001b[0m \u001b[0mstructure\u001b[0m\u001b[0;34m.\u001b[0m\u001b[0mflags\u001b[0m\u001b[0;34m.\u001b[0m\u001b[0mcontiguous\u001b[0m\u001b[0;34m:\u001b[0m\u001b[0;34m\u001b[0m\u001b[0;34m\u001b[0m\u001b[0m\n\u001b[1;32m    233\u001b[0m         \u001b[0mstructure\u001b[0m \u001b[0;34m=\u001b[0m \u001b[0mstructure\u001b[0m\u001b[0;34m.\u001b[0m\u001b[0mcopy\u001b[0m\u001b[0;34m(\u001b[0m\u001b[0;34m)\u001b[0m\u001b[0;34m\u001b[0m\u001b[0;34m\u001b[0m\u001b[0m\n",
      "\u001b[0;31mRuntimeError\u001b[0m: structure and input must have same dimensionality"
     ],
     "ename": "RuntimeError",
     "evalue": "structure and input must have same dimensionality",
     "output_type": "error"
    }
   ],
   "source": [
    "fig, axes = plt.subplots(1,3)\n",
    "r = np.copy(img)\n",
    "\n",
    "\n",
    "img_open = skimage.morphology.binary_opening(r, se)\n",
    "img_close = skimage.morphology.binary_closing(r, se)\n",
    "\n",
    "axes[0].imshow(np.power(img-1,2), cmap='gray')\n",
    "axes[1].imshow(np.power(img_open-1,2), cmap='gray')\n",
    "axes[2].imshow(np.power(img_close-1,2), cmap='gray')\n",
    "\n",
    "axes[0].set_title(\"original\")\n",
    "axes[1].set_title(\"open\")\n",
    "axes[2].set_title(\"close\")"
   ],
   "metadata": {
    "collapsed": false,
    "pycharm": {
     "name": "#%%\n",
     "is_executing": false
    }
   }
  },
  {
   "cell_type": "code",
   "execution_count": null,
   "outputs": [],
   "source": [
    "img = np.array(skimage.io.imread(\"././strb1.jpg\"))[:,:,0]\n",
    "img = np.where(img < 155, 1, 0)\n",
    "mask = np.array(skimage.io.imread(\"././././strb1.jpg\"))[:,:,0]\n",
    "mask = np.where(mask < 155, 1, 0)\n",
    "mask2 = np.array([[0],\n",
    "                  [0],\n",
    "                  [0],\n",
    "                  [0],\n",
    "                  [0],\n",
    "                  [0],\n",
    "                  [0]])\n",
    "mask3 = np.array([[1,0,0,0,1],\n",
    "                  [0,1,0,1,0],\n",
    "                  [0,0,1,0,0],\n",
    "                  [0,1,0,1,0],\n",
    "                  [1,0,0,0,1],])\n",
    "structure2 = np.zeros_like(mask3)\n",
    "\n",
    "mask4 = skimage.morphology.binary_erosion(skimage.morphology.binary_erosion(mask))\n",
    "\n",
    "r = scipy.ndimage.binary_hit_or_miss(img, mask4,structure2)\n",
    "\n",
    "r = np.where(r==True, 1, 0)\n",
    "\n",
    "idx = np.argwhere(r==1)\n",
    "\n",
    "plt.imshow(np.power(img-1,2),cmap='gray')\n",
    "plt.plot(idx[:,1], idx[:,0], '+')\n",
    "\n",
    "print(\"done\")\n",
    "\n"
   ],
   "metadata": {
    "collapsed": false,
    "pycharm": {
     "name": "#%%\n",
     "is_executing": true
    }
   }
  },
  {
   "cell_type": "code",
   "execution_count": 3,
   "outputs": [],
   "source": [
    "def count_hole_coin(img_org, img_no_bg):\n",
    "    r = []\n",
    "    fig,ax = plt.subplots(1,1)\n",
    "    for i in range(0, img_org.shape[0]):\n",
    "        for j in range(0, img_org.shape[1]):\n",
    "            if img_no_bg[i,j] == 0:\n",
    "                tmp = j\n",
    "                while img_no_bg[i,tmp] == 0:\n",
    "                    tmp-=1\n",
    "                new_img = skimage.morphology.flood_fill(img_org, (i,tmp), 0)\n",
    "                diff = np.sum(np.bitwise_xor(new_img, img_org))\n",
    "                img_org = new_img\n",
    "                r.append(diff)\n",
    "                skimage.morphology.flood_fill(img_no_bg, (i,j), 1,inplace=True)\n",
    "                print(r)\n",
    "                \n",
    "                ax.imshow(img_org, cmap='gray')\n",
    "                fig.canvas.draw()\n",
    "                \n",
    "                fig.show()\n",
    "                \n",
    "                fig.waitforbuttonpress()\n",
    "    return r, img_org\n",
    "\n",
    "def count_full(img):\n",
    "    r = []\n",
    "    fig,ax = plt.subplots(1,1)\n",
    "    \n",
    "    for i in range(0, img.shape[0]):\n",
    "        for j in range(0, img.shape[1]):\n",
    "            if img[i,j] == 1:\n",
    "                new_img = skimage.morphology.flood_fill(img, (i,j), 0)\n",
    "                diff = np.sum(np.bitwise_xor(new_img, img))\n",
    "                if diff > 100:\n",
    "                    r.append(diff)\n",
    "                img = new_img\n",
    "                print(r)\n",
    "                \n",
    "                ax.imshow(img, cmap='gray')\n",
    "                fig.canvas.draw()\n",
    "                \n",
    "                fig.show()\n",
    "                \n",
    "                fig.waitforbuttonpress()\n",
    "    print(r)\n",
    "    return r, img\n",
    "\n",
    "def proc_coins(full, hole):\n",
    "    hist_full = np.histogram(full,bins=[0,4000,6000])\n",
    "    hist_hole = np.histogram(hole,bins=[0,4000,5000,7000])\n",
    "    print(hist_full)\n",
    "    print(hist_hole)\n",
    "    \n",
    "    hole_coins = [\"1 kr\", '2 kr', '10 kr']\n",
    "    full_coins = [\"50 ore\", '20 kr']\n",
    "    \n",
    "    values_full = [1/2,20]\n",
    "    values_hole = [1,2,10]\n",
    "    \n",
    "    total = 0\n",
    "    \n",
    "    for i,val in enumerate(hist_full[0]):\n",
    "        print(f\"{val} coins of {full_coins[i]}\")\n",
    "        total += values_full[i]\n",
    "    for i,val in enumerate(hist_hole[0]):\n",
    "        print(f\"{val} coins of {hole_coins[i]}\")    \n",
    "        total += values_hole[i]\n",
    "    print(f\"total: {total} kr\")\n",
    "    "
   ],
   "metadata": {
    "collapsed": false,
    "pycharm": {
     "name": "#%%\n",
     "is_executing": false
    }
   }
  },
  {
   "cell_type": "code",
   "execution_count": null,
   "outputs": [
    {
     "name": "stdout",
     "text": [
      "[6047]\n",
      "[6047, 4349]\n",
      "[6047, 4349, 6065]\n",
      "[6047, 4349, 6065, 4454]\n",
      "[6047, 4349, 6065, 4454, 3049]\n"
     ],
     "output_type": "stream"
    }
   ],
   "source": [
    "img = np.array(skimage.io.imread(\".\\\\input\\\\money_bin.jpg\"))\n",
    "img = np.where(img < 155, 1, 0)\n",
    "\n",
    "img_no_bg = skimage.morphology.flood_fill(img, (0,0), 1)\n",
    "np.unique(img)\n",
    "\n",
    "\n",
    "r, new_img = count_hole_coin(img, img_no_bg)\n",
    "r2, new_img = count_full(new_img)\n",
    "\n",
    "\n",
    "\n",
    "\n",
    "img = new_img\n",
    "plt.imshow(img_no_bg, cmap='gray')"
   ],
   "metadata": {
    "collapsed": false,
    "pycharm": {
     "name": "#%%\n",
     "is_executing": true
    }
   }
  },
  {
   "cell_type": "code",
   "execution_count": 19,
   "outputs": [
    {
     "name": "stdout",
     "text": [
      "(array([1, 5], dtype=int64), array([   0, 4000, 6000]))\n(array([1, 2, 2], dtype=int64), array([   0, 4000, 5000, 7000]))\n1 coins of 50 ore\n5 coins of 20 kr\n1 coins of 1 kr\n2 coins of 2 kr\n2 coins of 10 kr\ntotal: 33.5 kr\n"
     ],
     "output_type": "stream"
    }
   ],
   "source": [
    "proc_coins(r2,r)"
   ],
   "metadata": {
    "collapsed": false,
    "pycharm": {
     "name": "#%%\n",
     "is_executing": false
    }
   }
  }
 ],
 "metadata": {
  "kernelspec": {
   "display_name": "Python 3",
   "language": "python",
   "name": "python3"
  },
  "language_info": {
   "codemirror_mode": {
    "name": "ipython",
    "version": 2
   },
   "file_extension": ".py",
   "mimetype": "text/x-python",
   "name": "python",
   "nbconvert_exporter": "python",
   "pygments_lexer": "ipython2",
   "version": "2.7.6"
  },
  "pycharm": {
   "stem_cell": {
    "cell_type": "raw",
    "source": [],
    "metadata": {
     "collapsed": false
    }
   }
  }
 },
 "nbformat": 4,
 "nbformat_minor": 0
}