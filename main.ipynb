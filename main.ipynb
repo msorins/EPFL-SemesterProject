{
 "cells": [
  {
   "cell_type": "code",
   "execution_count": 469,
   "metadata": {
    "collapsed": true,
    "pycharm": {
     "name": "#%%\n",
     "is_executing": false
    }
   },
   "outputs": [],
   "source": [
    "%matplotlib qt\n",
    "import scipy.stats as st\n",
    "import numpy as np\n",
    "from scipy import fftpack\n",
    "import scipy.ndimage.filters\n",
    "import matplotlib.pyplot as plt\n",
    "import skimage.io\n",
    "import skimage.exposure\n",
    "import skimage.util\n",
    "import skimage.morphology\n",
    "import scipy.ndimage\n",
    "from skimage.measure import compare_ssim\n",
    "import cv2\n",
    "import time"
   ]
  },
  {
   "cell_type": "code",
   "execution_count": 470,
   "outputs": [],
   "source": [
    "filePath = './strb3.jpg'\n",
    "keyPoints = \"0 292 155 383 229 2 1.000 172 127 288 216 2 1.000 140 218 243 326 2 1.000 81 173 163 277 2 1.000 43 93 134 185 2 1.000\""
   ],
   "metadata": {
    "collapsed": false,
    "pycharm": {
     "name": "#%%\n",
     "is_executing": false
    }
   }
  },
  {
   "cell_type": "code",
   "execution_count": 471,
   "outputs": [
    {
     "data": {
      "text/plain": "True"
     },
     "metadata": {},
     "output_type": "execute_result",
     "execution_count": 471
    }
   ],
   "source": [
    "img = cv2.imread(filePath)\n",
    "cv2.imwrite('1_out_initial.jpg', img)"
   ],
   "metadata": {
    "collapsed": false,
    "pycharm": {
     "name": "#%%\n",
     "is_executing": false
    }
   }
  },
  {
   "cell_type": "code",
   "execution_count": 472,
   "outputs": [
    {
     "name": "stdout",
     "text": [
      "Blur time:  0.006206035614013672\n"
     ],
     "output_type": "stream"
    },
    {
     "data": {
      "text/plain": "True"
     },
     "metadata": {},
     "output_type": "execute_result",
     "execution_count": 472
    }
   ],
   "source": [
    "# Blur the red image\n",
    "start_time = time.time()\n",
    "ksize = (5, 5) \n",
    "blurredImage = cv2.blur(img, ksize, cv2.BORDER_DEFAULT) \n",
    "end_time1 = time.time() - start_time\n",
    "print(\"Blur time: \", end_time1)\n",
    "cv2.imwrite('2_blurred3_red.jpg', np.hstack([img, blurredImage]))"
   ],
   "metadata": {
    "collapsed": false,
    "pycharm": {
     "name": "#%%\n",
     "is_executing": false
    }
   }
  },
  {
   "cell_type": "code",
   "execution_count": 473,
   "outputs": [
    {
     "data": {
      "text/plain": "True"
     },
     "metadata": {},
     "output_type": "execute_result",
     "execution_count": 473
    }
   ],
   "source": [
    "# Isolate very bright red colors ( classical WAY )\n",
    "redBoundary = ([0, 0, 100], [200, 200, 255])\n",
    "maskRed = cv2.inRange(blurredImage, np.array(redBoundary[0],dtype = \"uint8\"), np.array(redBoundary[1], dtype = \"uint8\"))\n",
    "outputRed = cv2.bitwise_and(blurredImage, blurredImage, mask = maskRed)\n",
    "\n",
    "greenBoundary = ([0, 100, 0], [200, 255, 200])\n",
    "maskGreen = cv2.inRange(blurredImage, np.array(greenBoundary[0],dtype = \"uint8\"), np.array(greenBoundary[1], dtype = \"uint8\"))\n",
    "outputGreen = cv2.bitwise_and(blurredImage, blurredImage, mask = maskGreen)\n",
    "\n",
    "blueBoundary = ([100, 0, 0], [200, 255, 200])\n",
    "maskBlue = cv2.inRange(blurredImage, np.array(blueBoundary[0],dtype = \"uint8\"), np.array(blueBoundary[1], dtype = \"uint8\"))\n",
    "outputBlue = cv2.bitwise_and(blurredImage, blurredImage, mask = maskBlue)\n",
    "\n",
    "cv2.imwrite(\"3_red_green_blue.jpg\", np.hstack([outputRed, outputGreen, outputBlue]))\n",
    "cv2.imwrite(\"3_reconstructed.jpg\", cv2.add(outputRed, cv2.add(outputGreen, outputBlue)))\n",
    "onlyRedMask =  np.array(np.int32(maskRed) -  np.int32(maskGreen) -  np.int32(maskBlue))\n",
    "onlyRedMask = np.array(onlyRedMask.clip(0, 255), dtype = \"uint8\")\n",
    "onlyRedImage = cv2.bitwise_and(img, img, mask = onlyRedMask)\n",
    "cv2.imwrite('3_only_red.jpg', onlyRedImage)\n",
    "cv2.imwrite('3_raw_only_red.jpg', np.hstack([img, onlyRedImage]))"
   ],
   "metadata": {
    "collapsed": false,
    "pycharm": {
     "name": "#%%\n",
     "is_executing": false
    }
   }
  },
  {
   "cell_type": "code",
   "execution_count": 474,
   "outputs": [
    {
     "name": "stdout",
     "text": [
      "2. Color correction time:  0.0031960010528564453\n"
     ],
     "output_type": "stream"
    },
    {
     "data": {
      "text/plain": "True"
     },
     "metadata": {},
     "output_type": "execute_result",
     "execution_count": 474
    }
   ],
   "source": [
    "start_time = time.time()\n",
    "hsvImage = cv2.cvtColor(blurredImage, cv2.COLOR_BGR2HSV)\n",
    "\n",
    "#For HSV, Hue range is [0,179], Saturation range is [0,255] and Value range is [0,255].\n",
    "# Filter by colour\n",
    "# 0-10 hue\n",
    "# minimum red amount, max red amount\n",
    "min_red = np.array([0, 100, 80])\n",
    "max_red = np.array([15, 256, 256])\n",
    "# layer\n",
    "mask1 = cv2.inRange(hsvImage, min_red, max_red)\n",
    "\n",
    "# birghtness of a color is hue\n",
    "# 170-180 hue\n",
    "min_red2 = np.array([150, 80, 60])\n",
    "max_red2 = np.array([180, 256, 256])\n",
    "mask2 = cv2.inRange(hsvImage, min_red2, max_red2)\n",
    "end_time2 = time.time() - start_time\n",
    "print(\"2. Color correction time: \", end_time2)\n",
    "cv2.imwrite('3_hsv_mask1.jpg', mask1)\n",
    "cv2.imwrite('3_hsv_mask2.jpg', mask2)\n",
    "\n",
    "# looking for what is in both ranges\n",
    "# Combine masks\n",
    "hsvMask = mask1 + mask2\n",
    "cv2.imwrite('3_hsv_mask3.jpg', np.hstack([img, cv2.bitwise_and(img, img, mask = hsvMask)]))\n",
    "#"
   ],
   "metadata": {
    "collapsed": false,
    "pycharm": {
     "name": "#%%\n",
     "is_executing": false
    }
   }
  },
  {
   "cell_type": "code",
   "execution_count": 475,
   "outputs": [
    {
     "name": "stdout",
     "text": [
      "3. Erosion and dilation:  0.0031960010528564453\n"
     ],
     "output_type": "stream"
    },
    {
     "data": {
      "text/plain": "True"
     },
     "metadata": {},
     "output_type": "execute_result",
     "execution_count": 475
    }
   ],
   "source": [
    "start_time = time.time()\n",
    "# Do erosion and dilation\n",
    "kernel = cv2.getStructuringElement(cv2.MORPH_ELLIPSE, (15, 15))\n",
    "\n",
    "# morph the image. closing operation Dilation followed by Erosion.\n",
    "# It is useful in closing small holes inside the foreground objects,\n",
    "# or small black points on the object.\n",
    "mask_closed = cv2.morphologyEx(hsvMask, cv2.MORPH_CLOSE, kernel)\n",
    "# erosion followed by dilation. It is useful in removing noise\n",
    "mask_clean = cv2.morphologyEx(mask_closed, cv2.MORPH_OPEN, kernel)\n",
    "\n",
    "onlyRedImageDirtyHsv = cv2.bitwise_and(img, img, mask = hsvMask)\n",
    "onlyRedImageCleanHsv = cv2.bitwise_and(img, img, mask = mask_clean)\n",
    "end_time3= time.time() - start_time\n",
    "print(\"3. Erosion and dilation: \", end_time2)\n",
    "cv2.imwrite('3_hsv_mask.jpg', np.hstack([onlyRedImageDirtyHsv, onlyRedImageCleanHsv]))"
   ],
   "metadata": {
    "collapsed": false,
    "pycharm": {
     "name": "#%%\n",
     "is_executing": false
    }
   }
  },
  {
   "cell_type": "code",
   "execution_count": 476,
   "outputs": [
    {
     "name": "stdout",
     "text": [
      "4. Grayscale time:  0.0031960010528564453\n"
     ],
     "output_type": "stream"
    },
    {
     "data": {
      "text/plain": "True"
     },
     "metadata": {},
     "output_type": "execute_result",
     "execution_count": 476
    }
   ],
   "source": [
    "# Make image gray scaled\n",
    "start_time = time.time()\n",
    "imgGrey = cv2.cvtColor(np.array(onlyRedImageCleanHsv, dtype = \"uint8\"), cv2.COLOR_BGR2GRAY)\n",
    "start_time4 = time.time() - start_time\n",
    "print(\"4. Grayscale time: \", end_time2)\n",
    "\n",
    "cv2.imwrite('4_grayscale.jpg', imgGrey)"
   ],
   "metadata": {
    "collapsed": false,
    "pycharm": {
     "name": "#%%\n",
     "is_executing": false
    }
   }
  },
  {
   "cell_type": "code",
   "execution_count": 477,
   "outputs": [
    {
     "name": "stdout",
     "text": [
      "5. Binarization:  0.0031960010528564453\n"
     ],
     "output_type": "stream"
    },
    {
     "data": {
      "text/plain": "True"
     },
     "metadata": {},
     "output_type": "execute_result",
     "execution_count": 477
    }
   ],
   "source": [
    "# Binarize with otsu\n",
    "start_time = time.time()\n",
    "threshold, otsuImage = cv2.threshold(imgGrey, 0, 255,cv2.THRESH_BINARY+cv2.THRESH_OTSU)\n",
    "start_time5 = time.time() - start_time\n",
    "print(\"5. Binarization: \", end_time2)\n",
    "\n",
    "cv2.imwrite('5_otsu.jpg', np.hstack([img, cv2.cvtColor(otsuImage,cv2.COLOR_GRAY2RGB)]))"
   ],
   "metadata": {
    "collapsed": false,
    "pycharm": {
     "name": "#%%\n",
     "is_executing": false
    }
   }
  },
  {
   "cell_type": "code",
   "execution_count": 478,
   "outputs": [
    {
     "data": {
      "text/plain": "True"
     },
     "metadata": {},
     "output_type": "execute_result",
     "execution_count": 478
    }
   ],
   "source": [
    "# Build distance transform\n",
    "distanceTransformImage = cv2.distanceTransform(otsuImage,cv2.DIST_L2, 5)\n",
    "cv2.imwrite('6_distance_transform.jpg', distanceTransformImage)\n",
    "        "
   ],
   "metadata": {
    "collapsed": false,
    "pycharm": {
     "name": "#%%\n",
     "is_executing": false
    }
   }
  },
  {
   "cell_type": "code",
   "execution_count": 479,
   "outputs": [
    {
     "name": "stdout",
     "text": [
      "57\n"
     ],
     "output_type": "stream"
    }
   ],
   "source": [
    "# Get maximum local points\n",
    "maximumLocalPoints = []\n",
    "for x in range(distanceTransformImage.shape[0]):\n",
    "    for y in range(distanceTransformImage.shape[1]):\n",
    "        dx = [-1, 1, 0, 0, -1, -1, 1, 1]\n",
    "        dy = [0, 0, -1, 1, -1, 1, -1, 1]\n",
    "        \n",
    "        isMaximumLocal = True\n",
    "        for toGo in range(len(dx)):\n",
    "            newX = x + dx[toGo]\n",
    "            newY = y + dy[toGo]\n",
    "            if newX < 0 or newY < 0 or newX >= distanceTransformImage.shape[0] or newY >= distanceTransformImage.shape[1]:\n",
    "                continue\n",
    "                \n",
    "            if distanceTransformImage[x][y] <= distanceTransformImage[newX][newY]:\n",
    "                isMaximumLocal = False\n",
    "                break\n",
    "            \n",
    "        if isMaximumLocal:\n",
    "            maximumLocalPoints.append( (x, y) )\n",
    "            \n",
    "\n",
    "print(len(maximumLocalPoints))"
   ],
   "metadata": {
    "collapsed": false,
    "pycharm": {
     "name": "#%%\n",
     "is_executing": false
    }
   }
  },
  {
   "cell_type": "code",
   "execution_count": 480,
   "outputs": [
    {
     "name": "stdout",
     "text": [
      "done\n"
     ],
     "output_type": "stream"
    }
   ],
   "source": [
    "# Do the flooding [NOT WORKING]\n",
    "fillImage = otsuImage.copy()\n",
    "h, w =  otsuImage.shape[:2]\n",
    "fillMask = np.zeros((h + 2, w + 2), np.uint8)\n",
    "\n",
    "for pointPair in maximumLocalPoints[:2]:\n",
    "    try:\n",
    "        cv2.floodFill(fillImage, fillMask, pointPair, 100)\n",
    "        contours, hierarchy = cv2.findContours(edged, cv2.RETR_EXTERNAL, cv2.CHAIN_APPROX_NONE) \n",
    "    except:\n",
    "        pass\n",
    "\n",
    "\n",
    "fillImageInv = cv2.bitwise_not(fillImage)\n",
    "cv2.imwrite('7_fill_image.jpg', fillImageInv)\n",
    "print(\"done\")"
   ],
   "metadata": {
    "collapsed": false,
    "pycharm": {
     "name": "#%%\n",
     "is_executing": false
    }
   }
  },
  {
   "cell_type": "code",
   "execution_count": 481,
   "outputs": [
    {
     "name": "stdout",
     "text": [
      "8. Canny edge time:  0.0017018318176269531\n"
     ],
     "output_type": "stream"
    },
    {
     "data": {
      "text/plain": "True"
     },
     "metadata": {},
     "output_type": "execute_result",
     "execution_count": 481
    }
   ],
   "source": [
    "# Canny Edge\n",
    "start_time = time.time()\n",
    "edgedImage = cv2.Canny(imgGrey, 30, 200)\n",
    "end_time_8 = time.time() - start_time\n",
    "print(\"8. Canny edge time: \", end_time_8)\n",
    "cv2.imwrite('8_canny_edge.jpg', np.hstack([img, cv2.cvtColor(edgedImage,cv2.COLOR_GRAY2RGB)]))"
   ],
   "metadata": {
    "collapsed": false,
    "pycharm": {
     "name": "#%%\n",
     "is_executing": false
    }
   }
  },
  {
   "cell_type": "code",
   "execution_count": 482,
   "outputs": [
    {
     "name": "stdout",
     "text": [
      "9. Contours Timetime:  0.0013399124145507812\n"
     ],
     "output_type": "stream"
    },
    {
     "data": {
      "text/plain": "True"
     },
     "metadata": {},
     "output_type": "execute_result",
     "execution_count": 482
    }
   ],
   "source": [
    "# Find Contours after Canny Edge\n",
    "contoursImage = edgedImage.copy()\n",
    "start_time = time.time()\n",
    "contours, hierarchy = cv2.findContours(contoursImage,  cv2.RETR_EXTERNAL, cv2.CHAIN_APPROX_SIMPLE) \n",
    "end_time_9 = time.time() - start_time\n",
    "print(\"9. Contours Timetime: \", end_time_9)\n",
    "\n",
    "finalImage = img.copy()\n",
    "cv2.drawContours(finalImage, contours, -1, (0, 255, 0), 3) \n",
    "cv2.imwrite('9_contours.jpg', finalImage)"
   ],
   "metadata": {
    "collapsed": false,
    "pycharm": {
     "name": "#%%\n",
     "is_executing": false
    }
   }
  },
  {
   "cell_type": "code",
   "execution_count": 483,
   "outputs": [
    {
     "name": "stdout",
     "text": [
      "9. Merge contours into rects:  0.001277923583984375\n",
      "9\n"
     ],
     "output_type": "stream"
    }
   ],
   "source": [
    "# Merge contours into rects\n",
    "start_time = time.time()\n",
    "\n",
    "nuclei = []\n",
    "rects = []\n",
    "rects4corners = []\n",
    "for cnt in contours:   \n",
    "    if cv2.contourArea(cnt) >= 40:   \n",
    "        nuclei.append(cnt)\n",
    "        rect = cv2.boundingRect(cnt)\n",
    "        rects.append(rect)\n",
    "        rects4corners.append([rect[0], rect[1], rect[0] + rect[2], rect[1] + rect[3]])\n",
    "\n",
    "finalImage = img.copy()\n",
    "try:\n",
    "    for (x,y,w,h) in rects:\n",
    "        cv2.rectangle(finalImage,(x,y),(x+w,y+h),(0,0,255),2)\n",
    "except:\n",
    "    print(\"da\")\n",
    "    \n",
    "end_time_9 = time.time() - start_time\n",
    "print(\"9. Merge contours into rects: \", end_time_9)\n",
    "\n",
    "print(len(rects))\n",
    "cv2.imwrite('9_rects_contours.jpg', finalImage)\n",
    "finalImageAllRects = finalImage.copy()"
   ],
   "metadata": {
    "collapsed": false,
    "pycharm": {
     "name": "#%%\n",
     "is_executing": false
    }
   }
  },
  {
   "cell_type": "code",
   "execution_count": 484,
   "outputs": [
    {
     "name": "stdout",
     "text": [
      "10: non-max-suppresion algorithm time:  0.0009732246398925781\n",
      "\n",
      "7\n"
     ],
     "output_type": "stream"
    },
    {
     "data": {
      "text/plain": "True"
     },
     "metadata": {},
     "output_type": "execute_result",
     "execution_count": 484
    }
   ],
   "source": [
    "def non_max_suppression_fast(boxes, overlapThresh):\n",
    "    # if there are no boxes, return an empty list\n",
    "    if len(boxes) == 0:\n",
    "        return []\n",
    "    # if the bounding boxes integers, convert them to floats --\n",
    "    # this is important since we'll be doing a bunch of divisions\n",
    "    if boxes.dtype.kind == \"i\":\n",
    "        boxes = boxes.astype(\"float\")\n",
    "    # initialize the list of picked indexes\t\n",
    "    pick = []\n",
    "    # grab the coordinates of the bounding boxes\n",
    "    x1 = boxes[:,0]\n",
    "    y1 = boxes[:,1]\n",
    "    x2 = boxes[:,2]\n",
    "    y2 = boxes[:,3]\n",
    "    # compute the area of the bounding boxes and sort the bounding\n",
    "    # boxes by the bottom-right y-coordinate of the bounding box\n",
    "    area = (x2 - x1 + 1) * (y2 - y1 + 1)\n",
    "    idxs = np.argsort(y2)\n",
    "    # keep looping while some indexes still remain in the indexes\n",
    "    # list\n",
    "    while len(idxs) > 0:\n",
    "        # grab the last index in the indexes list and add the\n",
    "        # index value to the list of picked indexes\n",
    "        last = len(idxs) - 1\n",
    "        i = idxs[last]\n",
    "        pick.append(i)\n",
    "        # find the largest (x, y) coordinates for the start of\n",
    "        # the bounding box and the smallest (x, y) coordinates\n",
    "        # for the end of the bounding box\n",
    "        xx1 = np.maximum(x1[i], x1[idxs[:last]])\n",
    "        yy1 = np.maximum(y1[i], y1[idxs[:last]])\n",
    "        xx2 = np.minimum(x2[i], x2[idxs[:last]])\n",
    "        yy2 = np.minimum(y2[i], y2[idxs[:last]])\n",
    "        # compute the width and height of the bounding box\n",
    "        w = np.maximum(0, xx2 - xx1 + 1)\n",
    "        h = np.maximum(0, yy2 - yy1 + 1)\n",
    "        # compute the ratio of overlap\n",
    "        overlap = (w * h) / area[idxs[:last]]\n",
    "        # delete all indexes from the index list that have\n",
    "        idxs = np.delete(idxs, np.concatenate(([last],np.where(overlap > overlapThresh)[0])))\n",
    "    # return only the bounding boxes that were picked using the\n",
    "    # integer data type\n",
    "    return boxes[pick].astype(\"int\")\n",
    "\n",
    "start_time = time.time()\n",
    "rectsFiltered = non_max_suppression_fast(np.array(rects4corners), 0.4)\n",
    "end_time_10 = time.time() - start_time\n",
    "print(\"10: non-max-suppresion algorithm time: \", end_time_10)\n",
    "\n",
    "print(len(rectsFiltered))\n",
    "finalImage = img.copy()\n",
    "try:\n",
    "    rectsFiltered = rectsFiltered[0:]\n",
    "    for (x1,y1,x2,y2) in rectsFiltered:\n",
    "        cv2.rectangle(finalImage,(x1,y1),(x2, y2),(0,0,255),2)\n",
    "except:\n",
    "    pass\n",
    "cv2.imwrite('10_rects_filtered.jpg', finalImage)\n",
    "\n",
    "cv2.imwrite('10_rects_all_filtered.jpg', np.hstack([img, finalImage]))\n"
   ],
   "metadata": {
    "collapsed": false,
    "pycharm": {
     "name": "#%%\n",
     "is_executing": false
    }
   }
  },
  {
   "cell_type": "code",
   "execution_count": 485,
   "outputs": [
    {
     "data": {
      "text/plain": "[292.0,\n 155.0,\n 383.0,\n 229.0,\n 2.0,\n 1.0,\n 172.0,\n 127.0,\n 288.0,\n 216.0,\n 2.0,\n 1.0,\n 140.0,\n 218.0,\n 243.0,\n 326.0,\n 2.0,\n 1.0,\n 81.0,\n 173.0,\n 163.0,\n 277.0,\n 2.0,\n 1.0,\n 43.0,\n 93.0,\n 134.0,\n 185.0,\n 2.0,\n 1.0]"
     },
     "metadata": {},
     "output_type": "execute_result",
     "execution_count": 485
    }
   ],
   "source": [
    "nrs = list(map(lambda x: float(x), keyPoints.split(\" \")[1: ])) \n",
    "n = int(keyPoints.split(\" \")[0])\n",
    "\n",
    "pos = 0\n",
    "for i in range(n):\n",
    "    x1 = nrs[pos]\n",
    "    y1 = nrs[pos + 1]\n",
    "    x2 = nrs[pos + 2]\n",
    "    y2 = nrs[pos + 3]\n",
    "    print(x1, y1, x2, y2)\n",
    "    cv2.rectangle(finalImage,(int(x1),int(y1)),(int(x2), int(y2)),(255,0,0),3)\n",
    "    \n",
    "    pos = pos + 6\n",
    "    \n",
    "nrs\n",
    "\n",
    "    "
   ],
   "metadata": {
    "collapsed": false,
    "pycharm": {
     "name": "#%%\n",
     "is_executing": false
    }
   }
  },
  {
   "cell_type": "code",
   "execution_count": 486,
   "outputs": [
    {
     "name": "stdout",
     "text": [
      "Done\n"
     ],
     "output_type": "stream"
    }
   ],
   "source": [
    "cv2.imwrite('11_final.jpg', np.hstack([img, finalImage]))\n",
    "print(\"Done\")"
   ],
   "metadata": {
    "collapsed": false,
    "pycharm": {
     "name": "#%%\n",
     "is_executing": false
    }
   }
  }
 ],
 "metadata": {
  "kernelspec": {
   "display_name": "Python 3",
   "language": "python",
   "name": "python3"
  },
  "language_info": {
   "codemirror_mode": {
    "name": "ipython",
    "version": 2
   },
   "file_extension": ".py",
   "mimetype": "text/x-python",
   "name": "python",
   "nbconvert_exporter": "python",
   "pygments_lexer": "ipython2",
   "version": "2.7.6"
  },
  "pycharm": {
   "stem_cell": {
    "cell_type": "raw",
    "source": [],
    "metadata": {
     "collapsed": false
    }
   }
  }
 },
 "nbformat": 4,
 "nbformat_minor": 0
}