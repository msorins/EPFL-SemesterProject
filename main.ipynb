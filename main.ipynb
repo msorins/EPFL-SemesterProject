{
 "cells": [
  {
   "cell_type": "code",
   "execution_count": 1,
   "metadata": {
    "collapsed": true,
    "pycharm": {
     "name": "#%%\n",
     "is_executing": false
    }
   },
   "outputs": [],
   "source": [
    "%matplotlib qt\n",
    "import scipy.stats as st\n",
    "import numpy as np\n",
    "from scipy import fftpack\n",
    "import scipy.ndimage.filters\n",
    "import matplotlib.pyplot as plt\n",
    "import skimage.io\n",
    "import skimage.exposure\n",
    "import skimage.util\n",
    "import skimage.morphology\n",
    "import scipy.ndimage\n",
    "from skimage.measure import compare_ssim\n",
    "import cv2"
   ]
  },
  {
   "cell_type": "code",
   "execution_count": 2,
   "outputs": [],
   "source": [
    "filePath = './strb1.jpg';"
   ],
   "metadata": {
    "collapsed": false,
    "pycharm": {
     "name": "#%%\n",
     "is_executing": false
    }
   }
  },
  {
   "cell_type": "code",
   "execution_count": 3,
   "outputs": [
    {
     "data": {
      "text/plain": "True"
     },
     "metadata": {},
     "output_type": "execute_result",
     "execution_count": 3
    }
   ],
   "source": [
    "img = cv2.imread(filePath)\n",
    "cv2.imwrite('1_out_initial.jpg', img)"
   ],
   "metadata": {
    "collapsed": false,
    "pycharm": {
     "name": "#%%\n",
     "is_executing": false
    }
   }
  },
  {
   "cell_type": "code",
   "execution_count": 4,
   "outputs": [
    {
     "data": {
      "text/plain": "True"
     },
     "metadata": {},
     "output_type": "execute_result",
     "execution_count": 4
    }
   ],
   "source": [
    "# Isolate very bright red colors\n",
    "redBoundary = ([0, 0, 100], [200, 200, 255])\n",
    "mask§ = cv2.inRange(img, np.array(redBoundary[0],dtype = \"uint8\"), np.array(redBoundary[1], dtype = \"uint8\"))\n",
    "outputRed = cv2.bitwise_and(img, img, mask = mask)\n",
    "\n",
    "greenBoundary = ([0, 100, 0], [200, 255, 200])\n",
    "mask = cv2.inRange(img, np.array(greenBoundary[0],dtype = \"uint8\"), np.array(greenBoundary[1], dtype = \"uint8\"))\n",
    "outputGreen = cv2.bitwise_and(img, img, mask = mask)\n",
    "\n",
    "blueBoundary = ([100, 0, 0], [200, 255, 200])\n",
    "mask = cv2.inRange(img, np.array(blueBoundary[0],dtype = \"uint8\"), np.array(blueBoundary[1], dtype = \"uint8\"))\n",
    "outputBlue = cv2.bitwise_and(img, img, mask = mask)\n",
    "\n",
    "cv2.imwrite(\"2_red_green_blue.jpg\", np.hstack([outputRed, outputGreen, outputBlue]))\n",
    "cv2.imwrite(\"2_reconstructed.jpg\", cv2.add(outputRed, cv2.add(outputGreen, outputBlue)))\n",
    "onlyRedImage =  np.int32(outputRed) -  np.int32(outputGreen) -  np.int32(outputBlue)\n",
    "cv2.imwrite('2_only_red.jpg', onlyRedImage)"
   ],
   "metadata": {
    "collapsed": false,
    "pycharm": {
     "name": "#%%\n",
     "is_executing": false
    }
   }
  },
  {
   "cell_type": "code",
   "execution_count": 31,
   "outputs": [
    {
     "data": {
      "text/plain": "True"
     },
     "metadata": {},
     "output_type": "execute_result",
     "execution_count": 31
    }
   ],
   "source": [
    "# Blur the red image\n",
    "ksize = (3, 3) \n",
    "blurredRedImage = cv2.blur(onlyRedImage, ksize, cv2.BORDER_DEFAULT) \n",
    "cv2.imwrite('3_blurred_red.jpg', blurredRedImage)\n"
   ],
   "metadata": {
    "collapsed": false,
    "pycharm": {
     "name": "#%%\n",
     "is_executing": false
    }
   }
  },
  {
   "cell_type": "code",
   "execution_count": 63,
   "outputs": [
    {
     "name": "stdout",
     "text": [
      "[[255 255 255 ... 255 255 255]\n",
      " [255 255 255 ... 255 255 255]\n",
      " [255 255 255 ... 255 255 255]\n",
      " ...\n",
      " [255 255 255 ... 255 255 255]\n",
      " [255 255 255 ... 255 255 255]\n",
      " [255 255 255 ... 255 255 255]]\n"
     ],
     "output_type": "stream"
    }
   ],
   "source": [
    "# Remove almost black pixels\n",
    "blackBoundary = ([0, 0, 0], [20, 20, 20])\n",
    "mask = cv2.inRange(img, np.array(blackBoundary[0],dtype = \"uint8\"), np.array(blackBoundary[1], dtype = \"uint8\"))\n",
    "mask = 255 - mask\n",
    "outputNoBlack = cv2.bitwise_and(blurredRedImage, blurredRedImage, mask = mask)\n",
    "\n",
    "print(mask)"
   ],
   "metadata": {
    "collapsed": false,
    "pycharm": {
     "name": "#%%\n",
     "is_executing": false
    }
   }
  },
  {
   "cell_type": "code",
   "execution_count": 64,
   "outputs": [
    {
     "data": {
      "text/plain": "True"
     },
     "metadata": {},
     "output_type": "execute_result",
     "execution_count": 64
    }
   ],
   "source": [
    "# Make image gray scaled\n",
    "imgGrey = cv2.cvtColor(np.array(outputNoBlack, dtype = \"uint8\"), cv2.COLOR_BGR2GRAY)\n",
    "cv2.imwrite('4_grayscale.jpg', imgGrey)"
   ],
   "metadata": {
    "collapsed": false,
    "pycharm": {
     "name": "#%%\n",
     "is_executing": false
    }
   }
  },
  {
   "cell_type": "code",
   "execution_count": 29,
   "outputs": [
    {
     "data": {
      "text/plain": "True"
     },
     "metadata": {},
     "output_type": "execute_result",
     "execution_count": 29
    }
   ],
   "source": [
    "threshold, otsuImage = cv2.threshold(imgGrey, 0, 255,cv2.THRESH_BINARY+cv2.THRESH_OTSU)\n",
    "cv2.imwrite('5_otsu.jpg', otsuImage)"
   ],
   "metadata": {
    "collapsed": false,
    "pycharm": {
     "name": "#%%\n",
     "is_executing": false
    }
   }
  },
  {
   "cell_type": "code",
   "execution_count": 8,
   "outputs": [
    {
     "traceback": [
      "\u001b[0;31m---------------------------------------------------------------------------\u001b[0m",
      "\u001b[0;31merror\u001b[0m                                     Traceback (most recent call last)",
      "\u001b[0;32m<ipython-input-8-20b77add5490>\u001b[0m in \u001b[0;36m<module>\u001b[0;34m\u001b[0m\n\u001b[1;32m      1\u001b[0m \u001b[0;31m# Erode the image\u001b[0m\u001b[0;34m\u001b[0m\u001b[0;34m\u001b[0m\u001b[0;34m\u001b[0m\u001b[0m\n\u001b[1;32m      2\u001b[0m \u001b[0mkernel\u001b[0m \u001b[0;34m=\u001b[0m \u001b[0mnp\u001b[0m\u001b[0;34m.\u001b[0m\u001b[0mones\u001b[0m\u001b[0;34m(\u001b[0m\u001b[0;34m(\u001b[0m\u001b[0;36m5\u001b[0m\u001b[0;34m,\u001b[0m\u001b[0;36m5\u001b[0m\u001b[0;34m)\u001b[0m\u001b[0;34m,\u001b[0m\u001b[0mnp\u001b[0m\u001b[0;34m.\u001b[0m\u001b[0muint8\u001b[0m\u001b[0;34m)\u001b[0m\u001b[0;34m\u001b[0m\u001b[0;34m\u001b[0m\u001b[0m\n\u001b[0;32m----> 3\u001b[0;31m \u001b[0merodedRedImage\u001b[0m \u001b[0;34m=\u001b[0m \u001b[0mcv2\u001b[0m\u001b[0;34m.\u001b[0m\u001b[0merode\u001b[0m\u001b[0;34m(\u001b[0m\u001b[0mblurredRedImage\u001b[0m\u001b[0;34m,\u001b[0m \u001b[0mkernel\u001b[0m\u001b[0;34m,\u001b[0m \u001b[0miterations\u001b[0m \u001b[0;34m=\u001b[0m \u001b[0;36m1\u001b[0m\u001b[0;34m)\u001b[0m\u001b[0;34m\u001b[0m\u001b[0;34m\u001b[0m\u001b[0m\n\u001b[0m\u001b[1;32m      4\u001b[0m \u001b[0mcv2\u001b[0m\u001b[0;34m.\u001b[0m\u001b[0mimwrite\u001b[0m\u001b[0;34m(\u001b[0m\u001b[0;34m'4_eroded_red.jpg'\u001b[0m\u001b[0;34m,\u001b[0m \u001b[0merodedRedImage\u001b[0m\u001b[0;34m)\u001b[0m\u001b[0;34m\u001b[0m\u001b[0;34m\u001b[0m\u001b[0m\n",
      "\u001b[0;31merror\u001b[0m: OpenCV(4.2.0) /Users/travis/build/skvark/opencv-python/opencv/modules/imgproc/src/morph.simd.hpp:756: error: (-213:The function/feature is not implemented) Unsupported data type (=20) in function 'getMorphologyRowFilter'\n"
     ],
     "ename": "error",
     "evalue": "OpenCV(4.2.0) /Users/travis/build/skvark/opencv-python/opencv/modules/imgproc/src/morph.simd.hpp:756: error: (-213:The function/feature is not implemented) Unsupported data type (=20) in function 'getMorphologyRowFilter'\n",
     "output_type": "error"
    }
   ],
   "source": [
    "# Erode the image\n",
    "kernel = np.ones((5,5),np.uint8)\n",
    "erodedRedImage = cv2.erode(blurredRedImage, kernel, iterations = 1)  \n",
    "cv2.imwrite('4_eroded_red.jpg', erodedRedImage)"
   ],
   "metadata": {
    "collapsed": false,
    "pycharm": {
     "name": "#%%\n",
     "is_executing": false
    }
   }
  }
 ],
 "metadata": {
  "kernelspec": {
   "display_name": "Python 3",
   "language": "python",
   "name": "python3"
  },
  "language_info": {
   "codemirror_mode": {
    "name": "ipython",
    "version": 2
   },
   "file_extension": ".py",
   "mimetype": "text/x-python",
   "name": "python",
   "nbconvert_exporter": "python",
   "pygments_lexer": "ipython2",
   "version": "2.7.6"
  },
  "pycharm": {
   "stem_cell": {
    "cell_type": "raw",
    "source": [],
    "metadata": {
     "collapsed": false
    }
   }
  }
 },
 "nbformat": 4,
 "nbformat_minor": 0
}